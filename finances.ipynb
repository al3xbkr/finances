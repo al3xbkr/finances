{
 "metadata": {
  "name": "",
  "signature": "sha256:f99eaee9b44abec8215fef014afcaf8bbab52894e0cd9a95f8992104a935c29b"
 },
 "nbformat": 3,
 "nbformat_minor": 0,
 "worksheets": [
  {
   "cells": [
    {
     "cell_type": "code",
     "collapsed": false,
     "input": [
      "# coding:utf-8 "
     ],
     "language": "python",
     "metadata": {},
     "outputs": [],
     "prompt_number": 193
    },
    {
     "cell_type": "code",
     "collapsed": false,
     "input": [
      "%pylab inline\n",
      "import os\n",
      "import pandas as pd\n",
      "import matplotlib.cm as cm, matplotlib.font_manager as fm\n"
     ],
     "language": "python",
     "metadata": {},
     "outputs": [
      {
       "output_type": "stream",
       "stream": "stdout",
       "text": [
        "Populating the interactive namespace from numpy and matplotlib\n"
       ]
      }
     ],
     "prompt_number": 306
    },
    {
     "cell_type": "code",
     "collapsed": false,
     "input": [
      "banlist = [u'Saldo Anterior',\n",
      "           u'Renda Fixa LP 100',\n",
      "           u'S A L D O',\n",
      "           u'Desbloqueio de dep\u00f3sito']"
     ],
     "language": "python",
     "metadata": {},
     "outputs": [],
     "prompt_number": 195
    },
    {
     "cell_type": "code",
     "collapsed": false,
     "input": [
      "raw = []"
     ],
     "language": "python",
     "metadata": {},
     "outputs": [],
     "prompt_number": 196
    },
    {
     "cell_type": "code",
     "collapsed": false,
     "input": [
      "def read(file_name):\n",
      "    return pd.read_csv(file_name, index_col='Data', parse_dates=True, encoding='iso8859', usecols=[0,2,5])"
     ],
     "language": "python",
     "metadata": {},
     "outputs": [],
     "prompt_number": 197
    },
    {
     "cell_type": "code",
     "collapsed": false,
     "input": [
      "def filter_banlist(raw):\n",
      "    return raw[raw[u'Hist\u00f3rico'].map(lambda x: x not in banlist)]"
     ],
     "language": "python",
     "metadata": {},
     "outputs": [],
     "prompt_number": 198
    },
    {
     "cell_type": "code",
     "collapsed": false,
     "input": [
      "def project(raw):\n",
      "    return raw.ix[:,'Valor']"
     ],
     "language": "python",
     "metadata": {},
     "outputs": [],
     "prompt_number": 199
    },
    {
     "cell_type": "code",
     "collapsed": false,
     "input": [
      "def resample(raw):\n",
      "    return raw.resample('M','sum')"
     ],
     "language": "python",
     "metadata": {},
     "outputs": [],
     "prompt_number": 200
    },
    {
     "cell_type": "code",
     "collapsed": false,
     "input": [
      "for root, dirs, files in os.walk('data'):\n",
      "    for file in files:\n",
      "        raw.append(read('data/'+ file))"
     ],
     "language": "python",
     "metadata": {},
     "outputs": [],
     "prompt_number": 201
    },
    {
     "cell_type": "code",
     "collapsed": false,
     "input": [
      "dataset = pd.concat(raw)\n",
      "dataset.head()"
     ],
     "language": "python",
     "metadata": {},
     "outputs": [
      {
       "html": [
        "<div style=\"max-height:1000px;max-width:1500px;overflow:auto;\">\n",
        "<table border=\"1\" class=\"dataframe\">\n",
        "  <thead>\n",
        "    <tr style=\"text-align: right;\">\n",
        "      <th></th>\n",
        "      <th>Hist\u00f3rico</th>\n",
        "      <th>Valor</th>\n",
        "    </tr>\n",
        "    <tr>\n",
        "      <th>Data</th>\n",
        "      <th></th>\n",
        "      <th></th>\n",
        "    </tr>\n",
        "  </thead>\n",
        "  <tbody>\n",
        "    <tr>\n",
        "      <th>2014-04-22</th>\n",
        "      <td>                                  Saldo Anterior</td>\n",
        "      <td>  35.00</td>\n",
        "    </tr>\n",
        "    <tr>\n",
        "      <th>2014-05-05</th>\n",
        "      <td> Saque no TAA - 04/05 15:15 BOURBON-SHOP.IPIRANG</td>\n",
        "      <td> -20.00</td>\n",
        "    </tr>\n",
        "    <tr>\n",
        "      <th>2014-05-05</th>\n",
        "      <td>                           Pagamento de Telefone</td>\n",
        "      <td>-267.95</td>\n",
        "    </tr>\n",
        "    <tr>\n",
        "      <th>2014-05-05</th>\n",
        "      <td>                          Pagto Energia El\u00e9trica</td>\n",
        "      <td> -78.84</td>\n",
        "    </tr>\n",
        "    <tr>\n",
        "      <th>2014-05-05</th>\n",
        "      <td>                               Renda Fixa LP 100</td>\n",
        "      <td> 331.79</td>\n",
        "    </tr>\n",
        "  </tbody>\n",
        "</table>\n",
        "</div>"
       ],
       "metadata": {},
       "output_type": "pyout",
       "prompt_number": 234,
       "text": [
        "                                                  Hist\u00f3rico   Valor\n",
        "Data                                                               \n",
        "2014-04-22                                   Saldo Anterior   35.00\n",
        "2014-05-05  Saque no TAA - 04/05 15:15 BOURBON-SHOP.IPIRANG  -20.00\n",
        "2014-05-05                            Pagamento de Telefone -267.95\n",
        "2014-05-05                           Pagto Energia El\u00e9trica  -78.84\n",
        "2014-05-05                                Renda Fixa LP 100  331.79"
       ]
      }
     ],
     "prompt_number": 234
    },
    {
     "cell_type": "code",
     "collapsed": false,
     "input": [
      "filtered_dataset = filter_banlist(dataset)\n",
      "filtered_dataset.head()"
     ],
     "language": "python",
     "metadata": {},
     "outputs": [
      {
       "html": [
        "<div style=\"max-height:1000px;max-width:1500px;overflow:auto;\">\n",
        "<table border=\"1\" class=\"dataframe\">\n",
        "  <thead>\n",
        "    <tr style=\"text-align: right;\">\n",
        "      <th></th>\n",
        "      <th>Hist\u00f3rico</th>\n",
        "      <th>Valor</th>\n",
        "    </tr>\n",
        "    <tr>\n",
        "      <th>Data</th>\n",
        "      <th></th>\n",
        "      <th></th>\n",
        "    </tr>\n",
        "  </thead>\n",
        "  <tbody>\n",
        "    <tr>\n",
        "      <th>2014-05-05</th>\n",
        "      <td>   Saque no TAA - 04/05 15:15 BOURBON-SHOP.IPIRANG</td>\n",
        "      <td> -20.00</td>\n",
        "    </tr>\n",
        "    <tr>\n",
        "      <th>2014-05-05</th>\n",
        "      <td>                             Pagamento de Telefone</td>\n",
        "      <td>-267.95</td>\n",
        "    </tr>\n",
        "    <tr>\n",
        "      <th>2014-05-05</th>\n",
        "      <td>                            Pagto Energia El\u00e9trica</td>\n",
        "      <td> -78.84</td>\n",
        "    </tr>\n",
        "    <tr>\n",
        "      <th>2014-05-06</th>\n",
        "      <td>      Saque no TAA - 06/05 10:09 UFRGS-INFORMATICA</td>\n",
        "      <td> -50.00</td>\n",
        "    </tr>\n",
        "    <tr>\n",
        "      <th>2014-05-06</th>\n",
        "      <td> Tarifa Pacote de Servi\u00e7os - Tarifa referente a...</td>\n",
        "      <td> -21.94</td>\n",
        "    </tr>\n",
        "  </tbody>\n",
        "</table>\n",
        "</div>"
       ],
       "metadata": {},
       "output_type": "pyout",
       "prompt_number": 235,
       "text": [
        "                                                    Hist\u00f3rico   Valor\n",
        "Data                                                                 \n",
        "2014-05-05    Saque no TAA - 04/05 15:15 BOURBON-SHOP.IPIRANG  -20.00\n",
        "2014-05-05                              Pagamento de Telefone -267.95\n",
        "2014-05-05                             Pagto Energia El\u00e9trica  -78.84\n",
        "2014-05-06       Saque no TAA - 06/05 10:09 UFRGS-INFORMATICA  -50.00\n",
        "2014-05-06  Tarifa Pacote de Servi\u00e7os - Tarifa referente a...  -21.94"
       ]
      }
     ],
     "prompt_number": 235
    },
    {
     "cell_type": "code",
     "collapsed": false,
     "input": [
      "projected_dataset = project(filtered_dataset)\n",
      "projected_dataset.head()"
     ],
     "language": "python",
     "metadata": {},
     "outputs": [
      {
       "metadata": {},
       "output_type": "pyout",
       "prompt_number": 237,
       "text": [
        "Data\n",
        "2014-05-05    -20.00\n",
        "2014-05-05   -267.95\n",
        "2014-05-05    -78.84\n",
        "2014-05-06    -50.00\n",
        "2014-05-06    -21.94\n",
        "Name: Valor, dtype: float64"
       ]
      }
     ],
     "prompt_number": 237
    },
    {
     "cell_type": "code",
     "collapsed": false,
     "input": [
      "outcome = projected_dataset[projected_dataset <= 0]\n",
      "income = projected_dataset[projected_dataset > 0]\n",
      "outcome_ds = resample(outcome).map(lambda x: abs(x))\n",
      "income_ds = resample(income)"
     ],
     "language": "python",
     "metadata": {},
     "outputs": [],
     "prompt_number": 238
    },
    {
     "cell_type": "code",
     "collapsed": false,
     "input": [
      "outcome.describe()"
     ],
     "language": "python",
     "metadata": {},
     "outputs": [
      {
       "metadata": {},
       "output_type": "pyout",
       "prompt_number": 239,
       "text": [
        "count      60.000000\n",
        "mean     -263.314500\n",
        "std       348.803678\n",
        "min     -1635.980000\n",
        "25%      -326.522500\n",
        "50%      -120.700000\n",
        "75%       -50.000000\n",
        "max        -5.700000\n",
        "dtype: float64"
       ]
      }
     ],
     "prompt_number": 239
    },
    {
     "cell_type": "code",
     "collapsed": false,
     "input": [
      "ax = income_ds.plot(kind='bar')\n",
      "outcome_ds.plot(color='red', kind='bar')"
     ],
     "language": "python",
     "metadata": {},
     "outputs": [
      {
       "metadata": {},
       "output_type": "pyout",
       "prompt_number": 241,
       "text": [
        "<matplotlib.axes.AxesSubplot at 0x7fbd7e3a8310>"
       ]
      },
      {
       "metadata": {},
       "output_type": "display_data",
       "png": "[encoded data removed]",
       "text": [
        "<matplotlib.figure.Figure at 0x7fbd7e61a750>"
       ]
      }
     ],
     "prompt_number": 241
    },
    {
     "cell_type": "code",
     "collapsed": false,
     "input": [
      "top_despesas = filtered_dataset[filtered_dataset['Valor'] <0]"
     ],
     "language": "python",
     "metadata": {},
     "outputs": [],
     "prompt_number": 283
    },
    {
     "cell_type": "code",
     "collapsed": false,
     "input": [
      "despesas = top_despesas.groupby(u'Hist\u00f3rico').sum()['Valor'].map(lambda x: abs(x))"
     ],
     "language": "python",
     "metadata": {},
     "outputs": [],
     "prompt_number": 287
    },
    {
     "cell_type": "code",
     "collapsed": false,
     "input": [
      "title_font = fm.FontProperties(family='Bitstream Vera Sans', style='normal', size=15, weight='normal', stretch='normal')\n",
      "label_font = fm.FontProperties(family='Bitstream Vera Sans', style='normal', size=12, weight='normal', stretch='normal')\n",
      "ticks_font = fm.FontProperties(family='Bitstream Vera Sans', style='normal', size=10, weight='normal', stretch='normal')\n",
      "annotation_font = fm.FontProperties(family='Bitstream Vera Sans', style='normal', size=10, weight='normal', stretch='normal')\n",
      "\n",
      "# function to produce more beautiful pie charts with matplotlib\n",
      "def gbplot_pie(fractions, #values for the wedges\n",
      "              labels, #labels for the wedges\n",
      "              title = '', #title of the pie chart\n",
      "              cm_name = 'Pastel1', #name of the matplotlib colormap to use\n",
      "              autopct = '%1.1f%%', #format the value text on each pie wedge\n",
      "              labeldistance = 1.05, #where to place wedge labels in relation to pie wedges\n",
      "              shadow = True, #shadow around the pie\n",
      "              startangle = 90, #rotate 90 degrees to start the top of the data set on the top of the pie\n",
      "              edgecolor = 'w', #color of pie wedge edges\n",
      "              width = 8, #width of the figure in inches\n",
      "              height = 8, #height of the figure in inches\n",
      "              grouping_threshold = None, #group all wedges below this value into one 'all others' wedge\n",
      "              grouping_label = None): #what the label the grouped wedge\n",
      "    \n",
      "    # if the user passed a threshold value, group all fractions lower than it into one 'misc' pie wedge\n",
      "    if not grouping_threshold==None:\n",
      "        \n",
      "        # if user didn't pass a label, apply a default text\n",
      "        if grouping_label == None:\n",
      "            grouping_label = 'Others'\n",
      "\n",
      "        # select the rows greater than the cutoff value\n",
      "        row_mask = fractions > grouping_threshold\n",
      "        meets_threshold = fractions[row_mask]\n",
      "\n",
      "        # group all other rows below the cutoff value\n",
      "        all_others = pd.Series(fractions[~row_mask].sum())\n",
      "        all_others.index = [grouping_label]\n",
      "\n",
      "        # append the grouped row to the bottom of the rows to display\n",
      "        fractions = meets_threshold.append(all_others)\n",
      "        labels = fractions.index\n",
      "    \n",
      "    # get the color map then pull 1 color from it for each pie wedge we'll draw\n",
      "    color_map = cm.get_cmap(cm_name)\n",
      "    num_of_colors = len(fractions)\n",
      "    colors = color_map([x/float(num_of_colors) for x in range(num_of_colors)])\n",
      "    \n",
      "    # create the figure and an axis to plot on\n",
      "    fig, ax = plt.subplots(figsize=[width, height])\n",
      "    \n",
      "    # plot the pie\n",
      "    wedges = ax.pie(fractions, \n",
      "                    labels = labels, \n",
      "                    labeldistance = labeldistance,\n",
      "                    autopct = autopct,\n",
      "                    colors = colors,\n",
      "                    shadow = shadow, \n",
      "                    startangle = startangle)\n",
      "    \n",
      "    # change the edgecolor for each wedge\n",
      "    for wedge in wedges[0]:\n",
      "        wedge.set_edgecolor(edgecolor)\n",
      "    \n",
      "    # set the title and show the plot\n",
      "    ax.set_title(title, fontproperties=title_font)\n",
      "    plt.show()"
     ],
     "language": "python",
     "metadata": {},
     "outputs": [],
     "prompt_number": 307
    },
    {
     "cell_type": "code",
     "collapsed": true,
     "input": [
      "countdata = top_despesas.groupby(u'Hist\u00f3rico').sum()['Valor'].map(lambda x: abs(x))"
     ],
     "language": "python",
     "metadata": {},
     "outputs": [],
     "prompt_number": 336
    },
    {
     "cell_type": "code",
     "collapsed": false,
     "input": [
      "gbplot_pie(fractions = countdata,\n",
      "           labels = countdata.index,\n",
      "           title = 'Despesas por item',\n",
      "           autopct='%1.1f%%',\n",
      "           grouping_threshold = 400,\n",
      "           grouping_label = 'Outras despesas')"
     ],
     "language": "python",
     "metadata": {},
     "outputs": [
      {
       "metadata": {},
       "output_type": "display_data",
       "png": "[encoded data removed]",
       "text": [
        "<matplotlib.figure.Figure at 0x7fbd79b08a90>"
       ]
      }
     ],
     "prompt_number": 337
    }
   ],
   "metadata": {}
  }
 ]
}